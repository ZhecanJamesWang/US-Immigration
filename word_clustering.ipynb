{
 "cells": [
  {
   "cell_type": "code",
   "execution_count": 2,
   "metadata": {
    "collapsed": false
   },
   "outputs": [],
   "source": [
    "import numpy as np\n",
    "import pandas as pd\n",
    "import nltk\n",
    "import re\n",
    "import os\n",
    "import codecs\n",
    "from sklearn import feature_extraction\n",
    "import mpld3"
   ]
  },
  {
   "cell_type": "code",
   "execution_count": 3,
   "metadata": {
    "collapsed": false
   },
   "outputs": [],
   "source": [
    "unique_immigration_df = pd.read_csv(\"./unique_immigration_104_107.csv\")"
   ]
  },
  {
   "cell_type": "code",
   "execution_count": 106,
   "metadata": {
    "collapsed": false
   },
   "outputs": [],
   "source": [
    "bill_nums = unique_immigration_df[\"bill_title\"] \n",
    "bill_titles = unique_immigration_df[\"question\"]\n",
    "content = unique_immigration_df[\"bill_long_text\"]\n",
    "years = unique_immigration_df[\"year\"]"
   ]
  },
  {
   "cell_type": "code",
   "execution_count": 30,
   "metadata": {
    "collapsed": false
   },
   "outputs": [],
   "source": [
    "stopwords = nltk.corpus.stopwords.words('english')"
   ]
  },
  {
   "cell_type": "code",
   "execution_count": 31,
   "metadata": {
    "collapsed": false
   },
   "outputs": [],
   "source": [
    "# load nltk's SnowballStemmer as variabled 'stemmer'\n",
    "from nltk.stem.snowball import SnowballStemmer\n",
    "stemmer = SnowballStemmer(\"english\")"
   ]
  },
  {
   "cell_type": "code",
   "execution_count": 32,
   "metadata": {
    "collapsed": false
   },
   "outputs": [],
   "source": [
    "def tokenize_and_stem(text):\n",
    "    # first tokenize by sentence, then by word to ensure that punctuation is caught as it's own token\n",
    "    tokens = [word for sent in nltk.sent_tokenize(text) for word in nltk.word_tokenize(sent)]\n",
    "    filtered_tokens = []\n",
    "    # filter out any tokens not containing letters (e.g., numeric tokens, raw punctuation)\n",
    "    for token in tokens:\n",
    "        if re.search('[a-zA-Z]', token):\n",
    "            filtered_tokens.append(token)\n",
    "    stems = [stemmer.stem(t) for t in filtered_tokens]\n",
    "    return stems\n",
    "\n",
    "\n",
    "def tokenize_only(text):\n",
    "    # first tokenize by sentence, then by word to ensure that punctuation is caught as it's own token\n",
    "    tokens = [word.lower() for sent in nltk.sent_tokenize(text) for word in nltk.word_tokenize(sent)]\n",
    "    filtered_tokens = []\n",
    "    # filter out any tokens not containing letters (e.g., numeric tokens, raw punctuation)\n",
    "    for token in tokens:\n",
    "        if re.search('[a-zA-Z]', token):\n",
    "            filtered_tokens.append(token)\n",
    "    return filtered_tokens"
   ]
  },
  {
   "cell_type": "code",
   "execution_count": 33,
   "metadata": {
    "collapsed": false
   },
   "outputs": [],
   "source": [
    "totalvocab_stemmed = []\n",
    "totalvocab_tokenized = []\n",
    "for i in content:\n",
    "    \n",
    "    allwords_stemmed = tokenize_and_stem(i) #for each item in 'synopses', tokenize/stem\n",
    "    totalvocab_stemmed.extend(allwords_stemmed) #extend the 'totalvocab_stemmed' list\n",
    "    \n",
    "    allwords_tokenized = tokenize_only(i)\n",
    "    totalvocab_tokenized.extend(allwords_tokenized)"
   ]
  },
  {
   "cell_type": "code",
   "execution_count": 34,
   "metadata": {
    "collapsed": false
   },
   "outputs": [
    {
     "data": {
      "text/plain": [
       "'564919'"
      ]
     },
     "execution_count": 34,
     "metadata": {},
     "output_type": "execute_result"
    }
   ],
   "source": [
    "# keeping only the first mapping of a stemmed to a tokanized word\n",
    "vocab_frame = pd.DataFrame({'words': totalvocab_tokenized}, index = totalvocab_stemmed)\n",
    "str(vocab_frame.shape[0])"
   ]
  },
  {
   "cell_type": "code",
   "execution_count": 35,
   "metadata": {
    "collapsed": false
   },
   "outputs": [
    {
     "name": "stdout",
     "output_type": "stream",
     "text": [
      "CPU times: user 26.5 s, sys: 503 ms, total: 27 s\n",
      "Wall time: 27.1 s\n",
      "(114, 1409)\n"
     ]
    }
   ],
   "source": [
    "from sklearn.feature_extraction.text import TfidfVectorizer\n",
    "\n",
    "#define vectorizer parameters\n",
    "tfidf_vectorizer = TfidfVectorizer(max_df=0.8, max_features=200000,\n",
    "                                 min_df=0.2, stop_words='english',\n",
    "                                 use_idf=True, tokenizer=tokenize_and_stem, ngram_range=(1,3))\n",
    "\n",
    "%time tfidf_matrix = tfidf_vectorizer.fit_transform(content) #fit the vectorizer to synopses\n",
    "\n",
    "print(tfidf_matrix.shape)"
   ]
  },
  {
   "cell_type": "code",
   "execution_count": 37,
   "metadata": {
    "collapsed": false
   },
   "outputs": [],
   "source": [
    "terms = tfidf_vectorizer.get_feature_names()"
   ]
  },
  {
   "cell_type": "code",
   "execution_count": 38,
   "metadata": {
    "collapsed": false
   },
   "outputs": [],
   "source": [
    "from sklearn.metrics.pairwise import cosine_similarity\n",
    "dist = 1 - cosine_similarity(tfidf_matrix)"
   ]
  },
  {
   "cell_type": "code",
   "execution_count": 39,
   "metadata": {
    "collapsed": false
   },
   "outputs": [
    {
     "name": "stdout",
     "output_type": "stream",
     "text": [
      "CPU times: user 290 ms, sys: 6.1 ms, total: 296 ms\n",
      "Wall time: 187 ms\n"
     ]
    }
   ],
   "source": [
    "from sklearn.cluster import KMeans\n",
    "\n",
    "num_clusters = 5\n",
    "\n",
    "km = KMeans(n_clusters=num_clusters)\n",
    "\n",
    "%time km.fit(tfidf_matrix)\n",
    "\n",
    "clusters = km.labels_.tolist()"
   ]
  },
  {
   "cell_type": "code",
   "execution_count": 41,
   "metadata": {
    "collapsed": false
   },
   "outputs": [],
   "source": [
    "from sklearn.externals import joblib\n",
    "\n",
    "# joblib.dump(km, 'bill_cluster.pkl')\n",
    "\n",
    "km = joblib.load('bill_cluster.pkl')\n",
    "clusters = km.labels_.tolist()"
   ]
  },
  {
   "cell_type": "code",
   "execution_count": 151,
   "metadata": {
    "collapsed": false
   },
   "outputs": [],
   "source": [
    "bills = { 'number': bill_nums, 'content': content, 'cluster': clusters, 'year': years, 'title':bill_titles}\n",
    "\n",
    "# frame = pd.DataFrame(bills, index = [clusters] , columns = ['title', 'number', 'cluster', 'year'])\n",
    "frame_test = pd.DataFrame(bills)\n",
    "frame_test.to_csv('text.csv', columns = ['title', 'number', 'cluster', 'year'])"
   ]
  },
  {
   "cell_type": "code",
   "execution_count": 156,
   "metadata": {
    "collapsed": false
   },
   "outputs": [
    {
     "name": "stdout",
     "output_type": "stream",
     "text": [
      "114\n",
      "114\n",
      "114\n",
      "114\n",
      "114\n",
      "5\n"
     ]
    }
   ],
   "source": [
    "print (len(bill_nums))\n",
    "print (len(content))\n",
    "print (len(clusters))\n",
    "print (len(years))\n",
    "print (len(bill_titles))\n",
    "print (len(bills))\n",
    "# print (unique_immigration_df[\"bill_title\"].unique())\n",
    "# print (frame_test.number.unique())"
   ]
  },
  {
   "cell_type": "code",
   "execution_count": 215,
   "metadata": {
    "collapsed": false
   },
   "outputs": [],
   "source": [
    "grouped_frame = frame_test.groupby([\"cluster\"])\n",
    "clusterGroup = []\n",
    "for i, group in grouped_frame:\n",
    "    clusterGroup.append(group)"
   ]
  },
  {
   "cell_type": "code",
   "execution_count": 218,
   "metadata": {
    "collapsed": false
   },
   "outputs": [
    {
     "name": "stdout",
     "output_type": "stream",
     "text": [
      "Top terms per cluster:\n",
      "\n",
      "Cluster 0 words: alien, visa, amends, immigrant, nations, immigrant, amends, attorney, attorney, petition, directs, directs, nonimmigrant, deportation, border, consideration, illegal, illegal, forth, set, child, adopt, u.s., set, age, closed, respect, natural, sponsor, parents,\n",
      "\n",
      "Cluster 0 title: s1664, hr668, hres384, hres528, hr2202, hr4134, s1723, hr2027, s1161, hr2464, hr1493, hr2920, hr1428, hr2578, hr3736, s2045, hr2886, hr1885, hr1209, hr1892, hres396, hr3525, hr4858, hr2155,\n",
      "\n",
      "Cluster 1 words: funding, department, federal, appropriations, administration, agencies, title, officer, make, secretary, supplemental, assistance, available, fy, prohibitions, emergency, supplemental, agriculture, health, related, loan, chapter, educational, sec, rescinds, management, defense, development, housing, commissions,\n",
      "\n",
      "Cluster 1 title: hr4278, hr889, hr1158, hr1944, hr3019, hr3814, hr3610, s1061, hr1469, hr1871, hjres94, hr2264, hr4328, s544, s1233, hr1141, hr1906, hr2670, hr4425, hr4577, hr2500, hr4775, hjres122,\n",
      "\n",
      "Cluster 2 words: federal, court, funding, attorney, crime, u.s., criminal, personal, grant, offenses, attorney, justice, title, foreign, enforcing, prisoner, terrorist, provisions, activities, agencies, officer, victims, department, united, law, regarding, commissions, informational, sec, make,\n",
      "\n",
      "Cluster 2 title: hr667, hr2076, hr2703, s735, s1022, s2260, hr2267, hr4276, s254, s1217, hr1658, hr1501, hr4690, hr3244, s1510, hr2975, hr3004, hr3162, hr2215,\n",
      "\n",
      "Cluster 3 words: title, child, secretary, funding, subtitle, support, federal, provisions, grant, educational, assistance, health, care, establishes, activities, payments, individuals, revise, plans, public, informational, eligible, make, fy, families, tax, income, set, parents, development,\n",
      "\n",
      "Cluster 3 title: s143, s1357, s1956, hr1271, hr1617, hr4, hr3734, s947, sconres86, s1882, hr1385, hr2015, hr2607, hr3130, hr3581, hr6, hr3989, hconres284, hr4194, hr3073, hr4678, hr3448, hr5063,\n",
      "\n",
      "Cluster 4 words: secretary, u.s., united, foreign, united, defense, officer, activities, funding, department, international, intelligence, agencies, security, government, title, president, congress, military, committees, federal, assistance, director, establishes, countries, directs, sec, informational, personnel, sec,\n",
      "\n",
      "Cluster 4 title: s908, hr1561, hr3259, s903, s936, s2312, s2334, hjres58, hr1757, hr1119, hr2431, hr4300, s886, hr1555, hr1401, s1059, s1214, hr2586, hr3394, hr3231, hconres188, hr5005, hr1646, hconres297, hr5710,\n",
      "\n"
     ]
    }
   ],
   "source": [
    "from __future__ import print_function\n",
    "\n",
    "print(\"Top terms per cluster:\")\n",
    "print()\n",
    "order_centroids = km.cluster_centers_.argsort()[:, ::-1]\n",
    "title_cluster_list = []\n",
    "clusters_words = []\n",
    "cluster_titles = []\n",
    "cluster_center_words = []\n",
    "\n",
    "for i, group in grouped_frame:\n",
    "    \n",
    "    tmp_cluster_center_words = []\n",
    "    for ind in order_centroids[i, :300]:\n",
    "        tmp_cluster_center_words.append(vocab_frame.ix[terms[ind].split(' ')].values.tolist()[0][0].encode('utf-8', 'ignore'))\n",
    "    cluster_center_words.append(tmp_cluster_center_words)\n",
    "    \n",
    "    clusterWord = []\n",
    "    print(\"Cluster %d words:\" % i, end='')\n",
    "    for ind in order_centroids[i, :30]:\n",
    "        clusterWord.append(vocab_frame.ix[terms[ind].split(' ')].values.tolist()[0][0].encode('utf-8', 'ignore'))\n",
    "        print(' %s' % vocab_frame.ix[terms[ind].split(' ')].values.tolist()[0][0].encode('utf-8', 'ignore'), end=',')\n",
    "    clusters_words.append(clusterWord)\n",
    "    print()\n",
    "    print()\n",
    "    \n",
    "    print(\"Cluster %d title:\" % i, end='')\n",
    "    for row in clusterGroup[i].iterrows():\n",
    "        num = row[1][\"number\"]\n",
    "        print (' %s,' % num, end='') \n",
    "    print()\n",
    "    print()"
   ]
  }
 ],
 "metadata": {
  "kernelspec": {
   "display_name": "Python 2",
   "language": "python",
   "name": "python2"
  },
  "language_info": {
   "codemirror_mode": {
    "name": "ipython",
    "version": 2
   },
   "file_extension": ".py",
   "mimetype": "text/x-python",
   "name": "python",
   "nbconvert_exporter": "python",
   "pygments_lexer": "ipython2",
   "version": "2.7.11"
  }
 },
 "nbformat": 4,
 "nbformat_minor": 0
}
