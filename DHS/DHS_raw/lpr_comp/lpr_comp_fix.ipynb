{
 "cells": [
  {
   "cell_type": "code",
   "execution_count": 2,
   "metadata": {
    "collapsed": true
   },
   "outputs": [],
   "source": [
    "import pandas as pd"
   ]
  },
  {
   "cell_type": "code",
   "execution_count": 3,
   "metadata": {
    "collapsed": true
   },
   "outputs": [],
   "source": [
    "lpr13 = pd.read_excel('immsuptable1d_4.xls')\n",
    "lpr12 = pd.read_excel('immsuptable1d_3.xls')\n",
    "lpr11 = pd.read_excel('immsuptable1d_2.xls')\n",
    "lpr10 = pd.read_excel('immsuptable1d_1.xls')\n",
    "lpr09 = pd.read_excel('immsuptable1d_0.xls')\n",
    "lpr08 = pd.read_excel('immsuptable1d.xls')\n",
    "lpr07 = pd.read_excel('immsuptable1dfy07.xls')\n",
    "lpr06 = pd.read_excel('ImmSupTable1DFY06.xls')"
   ]
  },
  {
   "cell_type": "code",
   "execution_count": 4,
   "metadata": {
    "collapsed": false
   },
   "outputs": [],
   "source": [
    "lpr13.head()\n",
    "lpr13.to_csv('../../Data/lpr_reg_state13.csv')"
   ]
  },
  {
   "cell_type": "code",
   "execution_count": 5,
   "metadata": {
    "collapsed": false
   },
   "outputs": [],
   "source": [
    "lpr12.head()\n",
    "lpr12.to_csv('../../Data/lpr_reg_state_12.csv')"
   ]
  },
  {
   "cell_type": "code",
   "execution_count": 6,
   "metadata": {
    "collapsed": true
   },
   "outputs": [],
   "source": [
    "lpr11.head()\n",
    "lpr11.to_csv('../../Data/lpr_reg_state_11.csv')"
   ]
  },
  {
   "cell_type": "code",
   "execution_count": 7,
   "metadata": {
    "collapsed": true
   },
   "outputs": [],
   "source": [
    "lpr10.head()\n",
    "lpr10.to_csv('../../Data/lpr_reg_state_10.csv')"
   ]
  },
  {
   "cell_type": "code",
   "execution_count": 8,
   "metadata": {
    "collapsed": true
   },
   "outputs": [],
   "source": [
    "lpr09.head()\n",
    "lpr09.to_csv('../../Data/lpr_reg_state_09.csv')"
   ]
  },
  {
   "cell_type": "code",
   "execution_count": 9,
   "metadata": {
    "collapsed": true
   },
   "outputs": [],
   "source": [
    "lpr08.head()\n",
    "lpr08.to_csv('../../Data/lpr_reg_state_08.csv')"
   ]
  },
  {
   "cell_type": "code",
   "execution_count": 10,
   "metadata": {
    "collapsed": true
   },
   "outputs": [],
   "source": [
    "lpr07.head()\n",
    "lpr07.to_csv('../../Data/lpr_reg_state_07.csv')"
   ]
  },
  {
   "cell_type": "code",
   "execution_count": 11,
   "metadata": {
    "collapsed": true
   },
   "outputs": [],
   "source": [
    "lpr06.head()\n",
    "lpr06.to_csv('../../Data/lpr_reg_state_06.csv')"
   ]
  },
  {
   "cell_type": "code",
   "execution_count": null,
   "metadata": {
    "collapsed": true
   },
   "outputs": [],
   "source": []
  }
 ],
 "metadata": {
  "kernelspec": {
   "display_name": "Python 2",
   "language": "python",
   "name": "python2"
  },
  "language_info": {
   "codemirror_mode": {
    "name": "ipython",
    "version": 2
   },
   "file_extension": ".py",
   "mimetype": "text/x-python",
   "name": "python",
   "nbconvert_exporter": "python",
   "pygments_lexer": "ipython2",
   "version": "2.7.11"
  }
 },
 "nbformat": 4,
 "nbformat_minor": 0
}
