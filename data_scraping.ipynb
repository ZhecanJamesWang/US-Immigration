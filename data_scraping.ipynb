{
 "cells": [
  {
   "cell_type": "code",
   "execution_count": 644,
   "metadata": {
    "collapsed": false
   },
   "outputs": [],
   "source": [
    "%matplotlib inline\n",
    "import pandas as pd\n",
    "import seaborn as sns\n",
    "import json\n",
    "import numpy as np\n",
    "import os\n",
    "legislators_historic = pd.read_csv('./data/legislators-historic.csv')\n",
    "legislators_current = pd.read_csv('./data/legislators-current.csv')"
   ]
  },
  {
   "cell_type": "code",
   "execution_count": 645,
   "metadata": {
    "collapsed": false
   },
   "outputs": [],
   "source": [
    "filtered_legislators_current= legislators_current[legislators_current.party.isnull()== False]\n",
    "filtered_legislators_historic = legislators_historic[legislators_historic.party.isnull()==False]"
   ]
  },
  {
   "cell_type": "code",
   "execution_count": 646,
   "metadata": {
    "collapsed": false
   },
   "outputs": [
    {
     "data": {
      "text/plain": [
       "array(['Democrat', 'Republican', 'Independent'], dtype=object)"
      ]
     },
     "execution_count": 646,
     "metadata": {},
     "output_type": "execute_result"
    }
   ],
   "source": [
    "filtered_legislators_current.party.unique()"
   ]
  },
  {
   "cell_type": "code",
   "execution_count": 647,
   "metadata": {
    "collapsed": false
   },
   "outputs": [
    {
     "data": {
      "image/png": "[encoded data removed]",
      "text/plain": [
       "<matplotlib.figure.Figure at 0x112109e90>"
      ]
     },
     "metadata": {},
     "output_type": "display_data"
    }
   ],
   "source": [
    "# this returns 236 - google says its 234 (independents maybe add on?)\n",
    "filtered_legislators_current[filtered_legislators_current.party == \"Democrat\"].count()\n",
    "sns.set(style=\"darkgrid\")\n",
    "curr_parties = sns.countplot(x=\"party\", data=filtered_legislators_current)"
   ]
  },
  {
   "cell_type": "code",
   "execution_count": 648,
   "metadata": {
    "collapsed": false
   },
   "outputs": [
    {
     "data": {
      "text/plain": [
       "{'2003': {'house_count': 677, 'senate_count': 459},\n",
       " '2004': {'house_count': 544, 'senate_count': 216}}"
      ]
     },
     "execution_count": 648,
     "metadata": {},
     "output_type": "execute_result"
    }
   ],
   "source": [
    "content_list = []\n",
    "years = []\n",
    "yearVotes = {}\n",
    "congress_no = \"data/108/\"\n",
    "# Documentation on the votes https://github.com/unitedstates/congress/wiki/votes\n",
    "congress_votes = congress_no + \"votes/\"\n",
    "\n",
    "for content in os.listdir(congress_no):\n",
    "    if content != '.DS_Store':\n",
    "        content_list.append(content)\n",
    "        \n",
    "for year in os.listdir(congress_votes):\n",
    "    years.append(year)    \n",
    "    house_count = 0\n",
    "    senate_count = 0\n",
    "    for chamber in os.listdir(congress_votes + year):\n",
    "        if chamber[0] == \"h\":\n",
    "            house_count +=1\n",
    "        if chamber[0] == \"s\":\n",
    "            senate_count += 1\n",
    "    yearVotes[year] = {'senate_count':senate_count, 'house_count':house_count}\n",
    "\n",
    "\n",
    "yearVotes"
   ]
  },
  {
   "cell_type": "code",
   "execution_count": 660,
   "metadata": {
    "collapsed": false
   },
   "outputs": [
    {
     "data": {
      "text/plain": [
       "{'amendment', 'cloture', 'nomination', 'passage', 'procedural', 'treaty'}"
      ]
     },
     "execution_count": 660,
     "metadata": {},
     "output_type": "execute_result"
    }
   ],
   "source": [
    "# Look what categories exist in general\n",
    "current_year = \"2003\"\n",
    "categories = []\n",
    "senate_path = congress_votes+current_year+\"/s\"\n",
    "house_path = congress_votes+current_year+\"/h\" \n",
    "\n",
    "for i in range(1,senate_count):\n",
    "    data = senate_path+str(i)+\"/data.json\"\n",
    "    json_file = open(data, 'r')\n",
    "    x = json.loads(json_file.read())\n",
    "    categories.append(str(x['category']))\n",
    "    \n",
    "set(categories)"
   ]
  },
  {
   "cell_type": "code",
   "execution_count": 661,
   "metadata": {
    "collapsed": false
   },
   "outputs": [
    {
     "data": {
      "text/plain": [
       "[314, 369, 424, 429, 539]"
      ]
     },
     "execution_count": 661,
     "metadata": {},
     "output_type": "execute_result"
    }
   ],
   "source": [
    "# \"Foreign\" related bills and amendments in the House\n",
    "res_docs = []\n",
    "wordSearch = \"Foreign\"\n",
    "for i in range(1, house_count+1):\n",
    "    path = house_path + str(i) + '/data.json'\n",
    "    f = open(path, 'r')\n",
    "    x = json.loads(f.read())\n",
    "    if wordSearch in x[\"question\"]:\n",
    "        res_docs.append(i)\n",
    "        \n",
    "res_docs"
   ]
  },
  {
   "cell_type": "code",
   "execution_count": 676,
   "metadata": {
    "collapsed": false,
    "scrolled": false
   },
   "outputs": [],
   "source": [
    "# Parse Vote Document\n",
    "# https://www.govtrack.us/data/congress/108/votes/2003/h424/data.json\n",
    "\n",
    "def arrange_dict(res_docs):\n",
    "    vote_types = [\"Nay\", \"Not Voting\", \"Present\", \"Yea\"]\n",
    "\n",
    "    res_dict = {}\n",
    "    res_dict['bill_title'] = []\n",
    "    res_dict['isAmendment'] = []\n",
    "    res_dict['result'] = []\n",
    "    res_dict['date'] = []\n",
    "    res_dict['question'] = []\n",
    "    res_dict['year'] = []\n",
    "    res_dict['bill_long_text'] = []\n",
    "    res_dict[\"top_subject\"] = []\n",
    "    res_dict['amendment_type_num'] = []\n",
    "    \n",
    "    for vote_type in vote_types:\n",
    "        res_dict[vote_type + \" (Democrats)\"] = []\n",
    "        res_dict[vote_type + \" (Republicans)\"] = []\n",
    "        res_dict[vote_type + \" (Others)\"] = []\n",
    "\n",
    "    for i in res_docs:\n",
    "        path = house_path + str(i) + '/data.json'\n",
    "        vote = json.loads(open(path, 'r').read())\n",
    "        votes_info = vote['votes']\n",
    "        if \"Aye\" in votes_info:\n",
    "            votes_info[\"Yea\"] = votes_info[\"Aye\"]\n",
    "        if \"No\" in votes_info:\n",
    "            votes_info[\"Nay\"] = votes_info[\"No\"]\n",
    "\n",
    "        if vote[\"category\"] != \"amendment\":\n",
    "            res_dict['amendment_type_num'].append(\"no\")\n",
    "            res_dict['isAmendment'].append(False)\n",
    "        else:\n",
    "            res_dict['isAmendment'].append(True)\n",
    "            res_dict['amendment_type_num'].append(str(vote['amendment']['type'][0])+\"amdt\"+str(vote['amendment']['number']))\n",
    "        \n",
    "        res_dict['bill_title'].append(str(vote['bill']['type'] + str(vote['bill']['number'])))\n",
    "        res_dict['bill_long_text'].append(get_bill_text(i)[0])\n",
    "        res_dict['top_subject'].append(get_bill_info(i)[1])\n",
    "        res_dict['result'].append(str(vote['result_text']))\n",
    "        res_dict['date'].append(str(vote['date']))\n",
    "        res_dict['year'].append(vote['date'].split('-')[0])\n",
    "        res_dict['question'].append(str(vote['question']))\n",
    "        for vote_type in vote_types:\n",
    "            dem_counter = 0\n",
    "            rep_counter = 0\n",
    "            ind_counter = 0\n",
    "            for voterObj in vote[\"votes\"][vote_type]:\n",
    "                name = voterObj[\"display_name\"]\n",
    "                party = voterObj[\"party\"]\n",
    "                if party == 'D':\n",
    "                    dem_counter +=1\n",
    "                if party == 'R':\n",
    "                    rep_counter +=1\n",
    "                if party == 'I':\n",
    "                    ind_counter +=1\n",
    "            res_dict[vote_type + \" (Democrats)\"].append(dem_counter)\n",
    "            res_dict[vote_type + \" (Republicans)\"].append(rep_counter)\n",
    "            res_dict[vote_type + \" (Others)\"].append(ind_counter)\n",
    "    return res_dict\n",
    "\n",
    "def get_bill_info(vote_index):\n",
    "    path = house_path + str(vote_index) + '/data.json'\n",
    "    vote = json.loads(open(path, 'r').read())\n",
    "    bill_type_num = str(vote['bill']['type']) + str(vote['bill']['number'])\n",
    "    \n",
    "    for bill_type in bill_types:\n",
    "        if bill_type in bill_type_num:\n",
    "            bill_data_path = congress_no + \"bills/\" + bill_type + \"/\" + str(bill_type_num) + \"/data.json\"\n",
    "            bill = json.loads(open(bill_data_path, 'r').read())\n",
    "            long_text_top_subject_array = [bill[\"summary\"][\"text\"], bill[\"subjects_top_term\"]]\n",
    "            return long_text_top_subject_array"
   ]
  },
  {
   "cell_type": "code",
   "execution_count": 677,
   "metadata": {
    "collapsed": false
   },
   "outputs": [
    {
     "data": {
      "text/plain": [
       "['data/108/bills/hjres/hjres49',\n",
       " 'data/108/bills/hr/hr1950',\n",
       " 'data/108/bills/hr/hr2800',\n",
       " 'data/108/bills/hr/hr2800',\n",
       " 'data/108/bills/hres/hres372']"
      ]
     },
     "execution_count": 677,
     "metadata": {},
     "output_type": "execute_result"
    }
   ],
   "source": [
    "# Parse bill Document\n",
    "# https://www.govtrack.us/data/congress/108/bills/hres/hres372/data.json\n",
    "\n",
    "bill_types = ['hconres', 'hjres', 'hres', 'sconres', 'sjres', 'sres', 'hr', 's']\n",
    "\n",
    "final_bill_paths = []\n",
    "for bill_type_num in res_dict['bill_title']:\n",
    "    for bill_type in bill_types:\n",
    "        if bill_type in bill_type_num:\n",
    "            congress_bills = congress_no + \"bills/\" + bill_type + \"/\" + str(bill_type_num)\n",
    "            final_bill_paths.append(congress_bills)\n",
    "            break\n",
    "final_bill_paths"
   ]
  },
  {
   "cell_type": "code",
   "execution_count": 678,
   "metadata": {
    "collapsed": false
   },
   "outputs": [],
   "source": [
    "df = pd.DataFrame(data=arrange_dict(res_docs))\n",
    "filename_dest = wordSearch + \"_data.csv\"\n",
    "df.to_csv(filename_dest, index=False)"
   ]
  }
 ],
 "metadata": {
  "kernelspec": {
   "display_name": "Python 2",
   "language": "python",
   "name": "python2"
  },
  "language_info": {
   "codemirror_mode": {
    "name": "ipython",
    "version": 2
   },
   "file_extension": ".py",
   "mimetype": "text/x-python",
   "name": "python",
   "nbconvert_exporter": "python",
   "pygments_lexer": "ipython2",
   "version": "2.7.11"
  }
 },
 "nbformat": 4,
 "nbformat_minor": 0
}
