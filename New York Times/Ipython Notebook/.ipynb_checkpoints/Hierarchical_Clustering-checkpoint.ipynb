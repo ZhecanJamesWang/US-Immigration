{
 "cells": [
  {
   "cell_type": "markdown",
   "metadata": {},
   "source": [
    "# Hierachical Clustering\n",
    "\n",
    "This notebook will walk through the process of how to implement a hierachical clustering in pure python code"
   ]
  },
  {
   "cell_type": "markdown",
   "metadata": {},
   "source": [
    "Initialize the cluster node class. This node has a left and a right reference to other nodes in the tree. Essentially, this will be the unit in the tree."
   ]
  },
  {
   "cell_type": "code",
   "execution_count": 2,
   "metadata": {
    "collapsed": true
   },
   "outputs": [],
   "source": [
    "class cluster_node:\n",
    "    def __init__(self,vec,left=None,right=None,distance=0.0,id=None,count=1):\n",
    "        self.left=left # left and right nodes \n",
    "        self.right=right\n",
    "        self.vec=vec # cluster's vector of the feature\n",
    "        self.id=id # id for differentiating if it is leaf or not\n",
    "        self.distance=distance \n",
    "        self.count=count #only used for weighted average \n"
   ]
  },
  {
   "cell_type": "markdown",
   "metadata": {},
   "source": [
    "Cost functions for calculating the distance between each node. This is the most ususal L2 cost function.\n",
    "https://en.wikipedia.org/wiki/Loss_function"
   ]
  },
  {
   "cell_type": "code",
   "execution_count": 3,
   "metadata": {
    "collapsed": true
   },
   "outputs": [],
   "source": [
    "def L2dist(v1,v2):\n",
    "    return sqrt(sum((v1-v2)**2))\n",
    "    \n",
    "def L1dist(v1,v2):\n",
    "    return sum(abs(v1-v2))\n",
    "\n",
    "# def Chi2dist(v1,v2):\n",
    "#     return sqrt(sum((v1-v2)**2))"
   ]
  },
  {
   "cell_type": "markdown",
   "metadata": {},
   "source": [
    "The main tree construction function. Input a list of items and will output a tree built based on these items"
   ]
  },
  {
   "cell_type": "code",
   "execution_count": 3,
   "metadata": {
    "collapsed": true
   },
   "outputs": [],
   "source": [
    "def hcluster(features,distance=L2dist):\n",
    "    #cluster the rows of the \"features\" matrix\n",
    "    distances={}\n",
    "    #dictionary for marking processed nodes\n",
    "    currentclustid=-1\n",
    "    #default cluster id for marking non leaf node\n",
    "    \n",
    "    # initialize a list of nodes, each node is an item from the input list.\n",
    "    clust=[cluster_node(array(features[i]),id=i) for i in range(len(features))]\n",
    "    \n",
    "    # try to converge the items in the list into one node eventually. if there is not only node left in the \n",
    "    # list, the while loop will keep running.\n",
    "    while len(clust)>1:\n",
    "        # place holder for the lowest pair\n",
    "        lowestpair=(0,1)\n",
    "        \n",
    "        # use cost function previously for calculating the distance between two items.\n",
    "        closest=distance(clust[0].vec,clust[1].vec)\n",
    "        \n",
    "        \n",
    "        # loop through every pair looking for the smallest distance\n",
    "        for i in range(len(clust)):\n",
    "            for j in range(i+1,len(clust)):\n",
    "                # distances is the cache of distance calculations\n",
    "                # check if we calculate this already or not\n",
    "                if (clust[i].id,clust[j].id) not in distances: \n",
    "                    distances[(clust[i].id,clust[j].id)]=distance(clust[i].vec,clust[j].vec)\n",
    "                \n",
    "                d=distances[(clust[i].id,clust[j].id)]\n",
    "        \n",
    "                # try to get the lowest pair every time\n",
    "                if d<closest:\n",
    "                    closest=d\n",
    "                    lowestpair=(i,j)\n",
    "        \n",
    "        # calculate the average of the two clusters.\n",
    "        mergevec=[(clust[lowestpair[0]].vec[i]+clust[lowestpair[1]].vec[i])/2.0 \\\n",
    "            for i in range(len(clust[0].vec))]\n",
    "\n",
    "\n",
    "        # create the new cluster and assing the parent nodes as the left and right. \n",
    "        newcluster=cluster_node(array(mergevec),left=clust[lowestpair[0]],\n",
    "                             right=clust[lowestpair[1]],\n",
    "                             distance=closest,id=currentclustid)\n",
    "        \n",
    "        # cluster ids that weren't in the original set are negative\n",
    "        currentclustid-=1\n",
    "        del clust[lowestpair[1]] # delete the original ones. A copy of them will be in the children nodes' left  \n",
    "        del clust[lowestpair[0]] # and right\n",
    "        clust.append(newcluster)\n",
    "\n",
    "    return clust[0] # Eventually will return a tree object"
   ]
  },
  {
   "cell_type": "code",
   "execution_count": 4,
   "metadata": {
    "collapsed": true
   },
   "outputs": [],
   "source": [
    "def extract_clusters(clust,dist):\n",
    "    # extract list of sub-tree clusters from hcluster tree with distance<dist\n",
    "    clusters = {}\n",
    "    if clust.distance<dist:\n",
    "        # we have found a cluster subtree\n",
    "        return [clust] \n",
    "    else:\n",
    "        # check the right and left branches\n",
    "        cl = []\n",
    "        cr = []\n",
    "        if clust.left!=None: \n",
    "            cl = extract_clusters(clust.left,dist=dist)\n",
    "        if clust.right!=None: \n",
    "            cr = extract_clusters(clust.right,dist=dist)\n",
    "        return cl+cr "
   ]
  },
  {
   "cell_type": "code",
   "execution_count": 5,
   "metadata": {
    "collapsed": true
   },
   "outputs": [],
   "source": [
    "def get_cluster_elements(clust):\n",
    "    # return ids for elements in a cluster sub-tree\n",
    "    if clust.id>0:\n",
    "        # positive id means that this is a leaf\n",
    "        return [clust.id]\n",
    "    else:\n",
    "        # check the right and left branches\n",
    "        cl = []\n",
    "        cr = []\n",
    "        if clust.left!=None: \n",
    "            cl = get_cluster_elements(clust.left)\n",
    "        if clust.right!=None: \n",
    "            cr = get_cluster_elements(clust.right)\n",
    "        return cl+cr\n"
   ]
  },
  {
   "cell_type": "code",
   "execution_count": 6,
   "metadata": {
    "collapsed": true
   },
   "outputs": [],
   "source": [
    "def printclust(clust,labels=None,n=0):\n",
    "    # indent to make a hierarchy layout\n",
    "    for i in range(n): print ' ',\n",
    "    if clust.id<0:\n",
    "        # negative id means that this is branch\n",
    "        print '-'\n",
    "    else:\n",
    "        # positive id means that this is an endpoint\n",
    "        if labels==None: print clust.id\n",
    "        else: print labels[clust.id]\n",
    "    \n",
    "    # now print the right and left branches\n",
    "    if clust.left!=None: printclust(clust.left,labels=labels,n=n+1)\n",
    "    if clust.right!=None: printclust(clust.right,labels=labels,n=n+1)"
   ]
  },
  {
   "cell_type": "code",
   "execution_count": 7,
   "metadata": {
    "collapsed": true
   },
   "outputs": [],
   "source": [
    "def getheight(clust):\n",
    "    # Is this an endpoint? Then the height is just 1\n",
    "    if clust.left==None and clust.right==None: return 1\n",
    "    \n",
    "    # Otherwise the height is the same of the heights of\n",
    "    # each branch\n",
    "    return getheight(clust.left)+getheight(clust.right)\n",
    "\n",
    "\n",
    "def getdepth(clust):\n",
    "    # The distance of an endpoint is 0.0\n",
    "    if clust.left==None and clust.right==None: return 0\n",
    "    \n",
    "    # The distance of a branch is the greater of its two sides\n",
    "    # plus its own distance\n",
    "    return max(getdepth(clust.left),getdepth(clust.right))+clust.distance\n",
    "      \n",
    "      \n",
    "from PIL import Image,ImageDraw"
   ]
  },
  {
   "cell_type": "code",
   "execution_count": 8,
   "metadata": {
    "collapsed": true
   },
   "outputs": [],
   "source": [
    "def drawdendrogram(clust,imlist,jpeg='clusters.jpg'):\n",
    "    # height and width\n",
    "    h=getheight(clust)*20\n",
    "    w=1200\n",
    "    depth=getdepth(clust)\n",
    "    \n",
    "    # width is fixed, so scale distances accordingly\n",
    "    scaling=float(w-150)/depth\n",
    "    \n",
    "    # Create a new image with a white background\n",
    "    img=Image.new('RGB',(w,h),(255,255,255))\n",
    "    draw=ImageDraw.Draw(img)\n",
    "    \n",
    "    draw.line((0,h/2,10,h/2),fill=(255,0,0))    \n",
    "    \n",
    "    # Draw the first node\n",
    "    drawnode(draw,clust,10,(h/2),scaling,imlist,img)\n",
    "    img.save(jpeg)\n",
    "\n",
    "def drawnode(draw,clust,x,y,scaling,imlist,img):\n",
    "    if clust.id<0:\n",
    "        h1=getheight(clust.left)*20\n",
    "        h2=getheight(clust.right)*20\n",
    "        top=y-(h1+h2)/2\n",
    "        bottom=y+(h1+h2)/2\n",
    "        # Line length\n",
    "        ll=clust.distance*scaling\n",
    "        # Vertical line from this cluster to children    \n",
    "        draw.line((x,top+h1/2,x,bottom-h2/2),fill=(255,0,0))    \n",
    "        \n",
    "        # Horizontal line to left item\n",
    "        draw.line((x,top+h1/2,x+ll,top+h1/2),fill=(255,0,0))    \n",
    "        \n",
    "        # Horizontal line to right item\n",
    "        draw.line((x,bottom-h2/2,x+ll,bottom-h2/2),fill=(255,0,0))        \n",
    "        \n",
    "        # Call the function to draw the left and right nodes    \n",
    "        drawnode(draw,clust.left,x+ll,top+h1/2,scaling,imlist,img)\n",
    "        drawnode(draw,clust.right,x+ll,bottom-h2/2,scaling,imlist,img)\n",
    "    else:   \n",
    "        # If this is an endpoint, draw a thumbnail image\n",
    "        nodeim = Image.open(imlist[clust.id])\n",
    "        nodeim.thumbnail((20,20))\n",
    "        ns = nodeim.size\n",
    "        img.paste(nodeim,(x,y-ns[1]//2,x+ns[0],y+ns[1]-ns[1]//2))"
   ]
  },
  {
   "cell_type": "code",
   "execution_count": null,
   "metadata": {
    "collapsed": true
   },
   "outputs": [],
   "source": []
  }
 ],
 "metadata": {
  "kernelspec": {
   "display_name": "Python 2",
   "language": "python",
   "name": "python2"
  },
  "language_info": {
   "codemirror_mode": {
    "name": "ipython",
    "version": 2
   },
   "file_extension": ".py",
   "mimetype": "text/x-python",
   "name": "python",
   "nbconvert_exporter": "python",
   "pygments_lexer": "ipython2",
   "version": "2.7.11"
  }
 },
 "nbformat": 4,
 "nbformat_minor": 0
}
