{
 "cells": [
  {
   "cell_type": "code",
   "execution_count": 1,
   "metadata": {
    "collapsed": false
   },
   "outputs": [
    {
     "name": "stderr",
     "output_type": "stream",
     "text": [
      "/home/zhecan/anaconda2/lib/python2.7/site-packages/matplotlib/font_manager.py:273: UserWarning: Matplotlib is building the font cache using fc-list. This may take a moment.\n",
      "  warnings.warn('Matplotlib is building the font cache using fc-list. This may take a moment.')\n",
      "/home/zhecan/anaconda2/lib/python2.7/site-packages/matplotlib/__init__.py:872: UserWarning: axes.color_cycle is deprecated and replaced with axes.prop_cycle; please use the latter.\n",
      "  warnings.warn(self.msg_depr % (key, alt_key))\n"
     ]
    }
   ],
   "source": [
    "import pandas as pd \n",
    "from sklearn.feature_extraction.text import TfidfTransformer\n",
    "import numpy as np\n",
    "import re\n",
    "from sklearn.feature_extraction.text import TfidfVectorizer\n",
    "from textblob import TextBlob\n",
    "import operator\n",
    "# import indicoio\n",
    "import unicodedata\n",
    "%matplotlib inline \n",
    "\n",
    "import matplotlib.pyplot as plt\n",
    "import seaborn as sns\n",
    "\n",
    "df = pd.read_csv(\"../data/Imigration_news_data_content.csv\")\n",
    "keyword = \"cuba\""
   ]
  },
  {
   "cell_type": "markdown",
   "metadata": {},
   "source": [
    "Load data"
   ]
  },
  {
   "cell_type": "code",
   "execution_count": 2,
   "metadata": {
    "collapsed": false
   },
   "outputs": [],
   "source": [
    "date = df[\"date\"]\n",
    "word_freq = []"
   ]
  },
  {
   "cell_type": "code",
   "execution_count": 3,
   "metadata": {
    "collapsed": false
   },
   "outputs": [],
   "source": [
    "word_freq_dict = {}\n",
    "year_freq_dict = {}\n",
    "for index, row in df.iterrows():\n",
    "    counter = 0\n",
    "    date = row[2][:4].strip()\n",
    "    if date not in word_freq_dict:\n",
    "        word_freq_dict[date] = 0\n",
    "        year_freq_dict[date] = 0\n",
    "    else:\n",
    "        year_freq_dict[date] += 1\n",
    "    words = row[1].split(\" \")\n",
    "    if keyword in words: # check if the word is in the list\n",
    "        counter += 1\n",
    "    word_freq_dict[date] += counter\n"
   ]
  },
  {
   "cell_type": "markdown",
   "metadata": {},
   "source": [
    "Set up a dictionary for the counter"
   ]
  },
  {
   "cell_type": "code",
   "execution_count": 4,
   "metadata": {
    "collapsed": false
   },
   "outputs": [],
   "source": [
    "new_word_freq_dict = {}\n",
    "for key in word_freq_dict:\n",
    "    if year_freq_dict[key] != 0:\n",
    "#         value = year_freq_dict[key]\n",
    "        value = float(word_freq_dict[key])/year_freq_dict[key] # normalize the word frequency\n",
    "        new_word_freq_dict[key] = value\n",
    "\n",
    "    else:\n",
    "        new_word_freq_dict[key] = 0\n"
   ]
  },
  {
   "cell_type": "code",
   "execution_count": 5,
   "metadata": {
    "collapsed": false
   },
   "outputs": [],
   "source": [
    "keyword_list = sorted(new_word_freq_dict.items(), key=operator.itemgetter(0),reverse=False)\n"
   ]
  },
  {
   "cell_type": "raw",
   "metadata": {},
   "source": [
    "Sor the word based on the normalized frequency"
   ]
  },
  {
   "cell_type": "code",
   "execution_count": 6,
   "metadata": {
    "collapsed": false
   },
   "outputs": [],
   "source": [
    "years = []\n",
    "freqs = []\n",
    "year_range = range(1992, 2006)\n",
    "# print year_range\n",
    "for (year, freq) in keyword_list:\n",
    "    year = int(year)\n",
    "    if year in year_range:\n",
    "        \n",
    "        years.append(year)\n",
    "        freqs.append(freq)\n"
   ]
  },
  {
   "cell_type": "code",
   "execution_count": 7,
   "metadata": {
    "collapsed": false,
    "scrolled": true
   },
   "outputs": [
    {
     "data": {
      "image/png": "[encoded data removed]",
      "text/plain": [
       "<matplotlib.figure.Figure at 0x7fa153158d90>"
      ]
     },
     "metadata": {},
     "output_type": "display_data"
    }
   ],
   "source": [
    "\n",
    "plt.plot(years, freqs)\n",
    "plt.show()"
   ]
  },
  {
   "cell_type": "code",
   "execution_count": 42,
   "metadata": {
    "collapsed": false
   },
   "outputs": [],
   "source": [
    "\n",
    "word_data = { \"date\": years, \"close\": freqs}\n",
    "\n",
    "word_frame = pd.DataFrame(word_data, columns = [\"date\", \"close\"])\n",
    "\n",
    "word_frame.to_csv(\"overallFrequency.csv\", cols= [\"date\", \"close\"], index_col = False)\n"
   ]
  },
  {
   "cell_type": "code",
   "execution_count": 43,
   "metadata": {
    "collapsed": false
   },
   "outputs": [
    {
     "name": "stdout",
     "output_type": "stream",
     "text": [
      "   Unnamed: 0  date  close\n",
      "0           0  1992    656\n",
      "1           1  1993    868\n",
      "2           2  1994    993\n",
      "3           3  1995    988\n",
      "4           4  1996    994\n"
     ]
    }
   ],
   "source": [
    "\n",
    "word_frame = pd.read_csv(\"overallFrequency.csv\")\n",
    "print word_frame.head()"
   ]
  },
  {
   "cell_type": "code",
   "execution_count": null,
   "metadata": {
    "collapsed": true
   },
   "outputs": [],
   "source": []
  }
 ],
 "metadata": {
  "kernelspec": {
   "display_name": "Python 2",
   "language": "python",
   "name": "python2"
  },
  "language_info": {
   "codemirror_mode": {
    "name": "ipython",
    "version": 2
   },
   "file_extension": ".py",
   "mimetype": "text/x-python",
   "name": "python",
   "nbconvert_exporter": "python",
   "pygments_lexer": "ipython2",
   "version": "2.7.11"
  }
 },
 "nbformat": 4,
 "nbformat_minor": 0
}
