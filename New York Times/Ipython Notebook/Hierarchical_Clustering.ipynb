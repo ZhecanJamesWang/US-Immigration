{
 "cells": [
  {
   "cell_type": "markdown",
   "metadata": {},
   "source": [
    "# Hierachical Clustering\n",
    "\n",
    "This notebook will walk through the process of how to implement a hierachical clustering in pure python code.\n",
    "This walk through is inpired by the book, \"Programming Collective Intelligence\" by Toby Segaran"
   ]
  },
  {
   "cell_type": "markdown",
   "metadata": {},
   "source": [
    "Initialize the cluster node class. This node has a left and a right reference to other nodes in the tree. Essentially, this will be the unit in the tree."
   ]
  },
  {
   "cell_type": "code",
   "execution_count": 3,
   "metadata": {
    "collapsed": true
   },
   "outputs": [],
   "source": [
    "class cluster_node:\n",
    "    def __init__(self,vec,left=None,right=None,distance=0.0,id=None,count=1):\n",
    "        self.left=left # left and right nodes \n",
    "        self.right=right\n",
    "        self.vec=vec # cluster's vector of the feature\n",
    "        self.id=id # id for differentiating if it is leaf or not\n",
    "        self.distance=distance \n",
    "        self.count=count #only used for weighted average \n"
   ]
  },
  {
   "cell_type": "markdown",
   "metadata": {},
   "source": [
    "Cost functions for calculating the distance between each node. This is the most ususal L2 cost function (https://en.wikipedia.org/wiki/Loss_function).\n"
   ]
  },
  {
   "cell_type": "code",
   "execution_count": 4,
   "metadata": {
    "collapsed": true
   },
   "outputs": [],
   "source": [
    "def L2dist(v1,v2):\n",
    "    return sqrt(sum((v1-v2)**2))\n",
    "    \n",
    "def L1dist(v1,v2):\n",
    "    return sum(abs(v1-v2))\n",
    "\n",
    "# def Chi2dist(v1,v2):\n",
    "#     return sqrt(sum((v1-v2)**2))"
   ]
  },
  {
   "cell_type": "markdown",
   "metadata": {},
   "source": [
    "The main tree construction function. Input a list of items and will output a tree built based on these items.\n",
    "Running hcluster() on a matrix with feature vectors as rows will create and return the cluster tree."
   ]
  },
  {
   "cell_type": "code",
   "execution_count": 5,
   "metadata": {
    "collapsed": false
   },
   "outputs": [],
   "source": [
    "def hcluster(features,distance=L2dist):\n",
    "    #cluster the rows of the \"features\" matrix\n",
    "    distances={}\n",
    "    #dictionary for marking processed nodes\n",
    "    currentclustid=-1\n",
    "    #default cluster id for marking non leaf node\n",
    "    \n",
    "    # initialize a list of nodes, each node is an item from the input list.\n",
    "    clust=[cluster_node(array(features[i]),id=i) for i in range(len(features))]\n",
    "    \n",
    "    # try to converge the items in the list into one node eventually. if there is not only node left in the \n",
    "    # list, the while loop will keep running.\n",
    "    while len(clust)>1:\n",
    "        # place holder for the lowest pair\n",
    "        lowestpair=(0,1)\n",
    "        \n",
    "        # use cost function previously for calculating the distance between two items.\n",
    "        closest=distance(clust[0].vec,clust[1].vec)\n",
    "        \n",
    "        \n",
    "        # loop through every pair looking for the smallest distance\n",
    "        for i in range(len(clust)):\n",
    "            for j in range(i+1,len(clust)):\n",
    "                # distances is the cache of distance calculations\n",
    "                # check if we calculate this already or not\n",
    "                if (clust[i].id,clust[j].id) not in distances: \n",
    "                    distances[(clust[i].id,clust[j].id)]=distance(clust[i].vec,clust[j].vec)\n",
    "                \n",
    "                d=distances[(clust[i].id,clust[j].id)]\n",
    "        \n",
    "                # try to get the lowest pair every time\n",
    "                if d<closest:\n",
    "                    closest=d\n",
    "                    lowestpair=(i,j)\n",
    "        \n",
    "        # calculate the average of the two clusters.\n",
    "        mergevec=[(clust[lowestpair[0]].vec[i]+clust[lowestpair[1]].vec[i])/2.0 \\\n",
    "            for i in range(len(clust[0].vec))]\n",
    "\n",
    "\n",
    "        # create the new cluster and assing the parent nodes as the left and right. \n",
    "        newcluster=cluster_node(array(mergevec),left=clust[lowestpair[0]],\n",
    "                             right=clust[lowestpair[1]],\n",
    "                             distance=closest,id=currentclustid)\n",
    "        \n",
    "        # cluster ids that weren't in the original set are negative\n",
    "        currentclustid-=1\n",
    "        del clust[lowestpair[1]] # delete the original ones. A copy of them will be in the children nodes' left  \n",
    "        del clust[lowestpair[0]] # and right\n",
    "        clust.append(newcluster)\n",
    "\n",
    "    return clust[0] # Eventually there will be only one cluster node object in the list and \n",
    "                    #it is the tree object actually."
   ]
  },
  {
   "cell_type": "markdown",
   "metadata": {},
   "source": [
    "The following function helps us to extract the clusters recursively from the tree. It will traverse from the top until a node with distance value smaller than some threshold is found."
   ]
  },
  {
   "cell_type": "code",
   "execution_count": 6,
   "metadata": {
    "collapsed": true
   },
   "outputs": [],
   "source": [
    "def extract_clusters(clust,dist):\n",
    "    # extract list of sub-tree clusters from hcluster tree with distance<dist\n",
    "    clusters = {}\n",
    "    if clust.distance<dist:\n",
    "        # we have found a cluster subtree\n",
    "        return [clust] \n",
    "    else:\n",
    "        # check the right and left branches\n",
    "        cl = []\n",
    "        cr = []\n",
    "        if clust.left!=None: \n",
    "            cl = extract_clusters(clust.left,dist=dist)\n",
    "        if clust.right!=None: \n",
    "            cr = extract_clusters(clust.right,dist=dist)\n",
    "        return cl+cr "
   ]
  },
  {
   "cell_type": "markdown",
   "metadata": {},
   "source": [
    "This function will return a list of sub-trees containing the clusters. To get the leaf nodes that contain the object ids, traverse each sub-tree and return a list of leaves"
   ]
  },
  {
   "cell_type": "code",
   "execution_count": 7,
   "metadata": {
    "collapsed": true
   },
   "outputs": [],
   "source": [
    "def get_cluster_elements(clust):\n",
    "    # return ids for elements in a cluster sub-tree\n",
    "    if clust.id>0:\n",
    "        # positive id means that this is a leaf\n",
    "        return [clust.id]\n",
    "    else:\n",
    "        # check the right and left branches\n",
    "        cl = []\n",
    "        cr = []\n",
    "        if clust.left!=None: \n",
    "            cl = get_cluster_elements(clust.left)\n",
    "        if clust.right!=None: \n",
    "            cr = get_cluster_elements(clust.right)\n",
    "        return cl+cr\n"
   ]
  },
  {
   "cell_type": "code",
   "execution_count": null,
   "metadata": {
    "collapsed": true
   },
   "outputs": [],
   "source": []
  }
 ],
 "metadata": {
  "kernelspec": {
   "display_name": "Python 2",
   "language": "python",
   "name": "python2"
  },
  "language_info": {
   "codemirror_mode": {
    "name": "ipython",
    "version": 2
   },
   "file_extension": ".py",
   "mimetype": "text/x-python",
   "name": "python",
   "nbconvert_exporter": "python",
   "pygments_lexer": "ipython2",
   "version": "2.7.11"
  }
 },
 "nbformat": 4,
 "nbformat_minor": 0
}
