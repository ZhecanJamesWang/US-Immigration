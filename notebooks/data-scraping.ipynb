{
 "cells": [
  {
   "cell_type": "code",
   "execution_count": 20,
   "metadata": {
    "collapsed": false
   },
   "outputs": [],
   "source": [
    "# importing libraries\n",
    "%matplotlib inline\n",
    "import pandas as pd\n",
    "import json\n",
    "import numpy as np\n",
    "import os"
   ]
  },
  {
   "cell_type": "code",
   "execution_count": 38,
   "metadata": {
    "collapsed": false
   },
   "outputs": [
    {
     "data": {
      "text/plain": [
       "{'2003': {'house_count': 677, 'senate_count': 459},\n",
       " '2004': {'house_count': 544, 'senate_count': 216}}"
      ]
     },
     "execution_count": 38,
     "metadata": {},
     "output_type": "execute_result"
    }
   ],
   "source": [
    "# Initial testing and working around with chamber counts on different congress year sessions\n",
    "# Documentation on the votes https://github.com/unitedstates/congress/wiki/votes\n",
    "\n",
    "content_list = []\n",
    "years = []\n",
    "yearVotes = {}\n",
    "congress_no = \"data/108/\"\n",
    "congress_votes = congress_no + \"votes/\"\n",
    "\n",
    "# loops through the congress directory and collects years present\n",
    "for content in os.listdir(congress_no):\n",
    "    if content != '.DS_Store':\n",
    "        content_list.append(content)\n",
    "        \n",
    "# for each year extract the vote sessions completed in the House and the Senate \n",
    "for year in os.listdir(congress_votes):\n",
    "    years.append(year)    \n",
    "    house_count = 0\n",
    "    senate_count = 0\n",
    "    for chamber in os.listdir(congress_votes + year):\n",
    "        if chamber[0] == \"h\":\n",
    "            house_count +=1\n",
    "        if chamber[0] == \"s\":\n",
    "            senate_count += 1\n",
    "    yearVotes[year] = {'senate_count':senate_count, 'house_count':house_count}\n",
    "\n",
    "yearVotes"
   ]
  },
  {
   "cell_type": "code",
   "execution_count": 44,
   "metadata": {
    "collapsed": false
   },
   "outputs": [
    {
     "data": {
      "text/plain": [
       "[314, 369, 424, 429, 539]"
      ]
     },
     "execution_count": 44,
     "metadata": {},
     "output_type": "execute_result"
    }
   ],
   "source": [
    "# A look into \"Foreign\" bills and amendments from the House of Representatives.\n",
    "# This test run returns an array of vote indices of all Vote Documents form the House\n",
    "# related to the query param \"Foreign\".\n",
    "\n",
    "sample_year= '2003/'\n",
    "house_path = congress_votes+sample_year+\"h\"\n",
    "res_docs = []\n",
    "wordSearch = \"Foreign\"\n",
    "for i in range(1, yearVotes['2003']['house_count']+1):\n",
    "    # Specify path, open and read relevant json file\n",
    "    path = house_path + str(i) + '/data.json'\n",
    "    f = open(path, 'r')\n",
    "    x = json.loads(f.read())\n",
    "    if wordSearch in x[\"question\"]:\n",
    "        res_docs.append(i)\n",
    "        \n",
    "res_docs"
   ]
  },
  {
   "cell_type": "code",
   "execution_count": 145,
   "metadata": {
    "collapsed": false,
    "scrolled": false
   },
   "outputs": [],
   "source": [
    "# Relevant Vote Document parsed\n",
    "# https://www.govtrack.us/data/congress/108/votes/2003/h424/data.json\n",
    "# https://www.govtrack.us/congress/bills/108/hres372\n",
    "class Processor():\n",
    "    def __init__(self, congress_num, word_search):\n",
    "        self.congress_num = congress_num\n",
    "        self.vote_types = [\"Nay\", \"Not Voting\", \"Present\", \"Yea\"]\n",
    "        self.bill_types = ['hconres', 'hjres', 'hres', 'sconres', 'sjres', 'sres', 'hr', 's']\n",
    "        self.res_dict = {}\n",
    "        self.res_dict['bill_title'] = []\n",
    "        self.res_dict['isAmendment'] = []\n",
    "        self.res_dict['result'] = []\n",
    "        self.res_dict['date'] = []\n",
    "        self.res_dict['question'] = []\n",
    "        self.res_dict['chamber'] = []\n",
    "        self.res_dict['year'] = []\n",
    "        self.res_dict['bill_long_text'] = []\n",
    "        self.res_dict[\"top_subject\"] = []\n",
    "        self.res_dict['amendment_type_num'] = []\n",
    "        self.res_dict[\"bill_sponsor_name\"] = []\n",
    "        self.res_dict[\"list_of_voters_obj\"] = []\n",
    "\n",
    "        for vote_type in self.vote_types:\n",
    "            self.res_dict[vote_type + \" (Democrats)\"] = []\n",
    "            self.res_dict[vote_type + \" (Republicans)\"] = []\n",
    "            self.res_dict[vote_type + \" (Others)\"] = []\n",
    "        self.word_search = word_search\n",
    "        self.chambers = {\"/h\":\"house_count\", \"/s\":\"senate_count\"}\n",
    "\n",
    "    def find_chamber_count(self):\n",
    "        \"\"\" \n",
    "            Lists all vote sessions completed in the House and the Senate (both chambers) \n",
    "            for a given congress and year.\n",
    "            \n",
    "            Returns dictionary of year and chamber count arrangements \n",
    "        \"\"\"\n",
    "        self.years = []\n",
    "        self.count_arrangements = {}\n",
    "        self.congress_votes = self.congress_num+\"votes/\"\n",
    "        for year in os.listdir(self.congress_votes):\n",
    "            self.years.append(year)    \n",
    "            self.house_count = 0\n",
    "            self.senate_count = 0\n",
    "            for chamber in os.listdir(self.congress_votes + year):\n",
    "                if chamber[0] == \"h\":\n",
    "                    self.house_count +=1\n",
    "                if chamber[0] == \"s\":\n",
    "                    self.senate_count += 1\n",
    "            self.count_arrangements[year] = {'senate_count':self.senate_count, 'house_count':self.house_count}\n",
    "        return self.count_arrangements\n",
    "\n",
    "    def read_chamber_data(self):\n",
    "        \"\"\"\n",
    "            Finds all indices of votes related to the query search word and returns resulting dictionary\n",
    "        \"\"\"\n",
    "        chambers_in_years = self.find_chamber_count()\n",
    "        res_all = {}\n",
    "        self.res_docs = []\n",
    "        for chamber in self.chambers:\n",
    "            for year in self.years:\n",
    "                chamber_path = self.congress_votes+year+chamber\n",
    "                for i in range(1, chambers_in_years[year][self.chambers[chamber]]+1):\n",
    "                    path = chamber_path + str(i) + '/data.json'\n",
    "                    f = open(path, 'r')\n",
    "                    x = json.loads(f.read())\n",
    "                    if self.word_search in x[\"question\"]:\n",
    "                        self.res_docs.append(i)\n",
    "                        res_all = self.arrange_dict(i, path, self.chambers[chamber])\n",
    "        return res_all\n",
    "        \n",
    "    def arrange_dict(self, vote_index, vote_path, chamber):\n",
    "        \"\"\"\n",
    "            Alocates keys and values to the resulting dictionary and populates fields using helper API methods.\n",
    "        \"\"\"\n",
    "        vote = json.loads(open(vote_path, 'r').read())\n",
    "        votes_info = vote['votes']\n",
    "        if \"Aye\" in votes_info:\n",
    "            votes_info[\"Yea\"] = votes_info[\"Aye\"]\n",
    "        if \"No\" in votes_info:\n",
    "            votes_info[\"Nay\"] = votes_info[\"No\"]\n",
    "\n",
    "        if vote[\"category\"] != \"amendment\":\n",
    "            self.res_dict['amendment_type_num'].append(\"no\")\n",
    "            self.res_dict['isAmendment'].append(False)\n",
    "        else:\n",
    "            self.res_dict['isAmendment'].append(True)\n",
    "            if hasattr(vote, 'amendment'):\n",
    "                self.res_dict['amendment_type_num'].append(str(vote['amendment']['type'][0])+\"amdt\"+str(vote['amendment']['number']))\n",
    "            else:\n",
    "                self.res_dict['amendment_type_num'].append(\"unknown\")\n",
    "        if \"bill\" in vote.keys():\n",
    "            self.res_dict['bill_title'].append(str(vote['bill']['type'] + str(vote['bill']['number'])))\n",
    "        else:\n",
    "            self.res_dict['bill_title'].append(\"unknown\")\n",
    "        self.res_dict['bill_long_text'].append(self.get_bill_info(vote_index,vote_path)[0])\n",
    "        self.res_dict['top_subject'].append(self.get_bill_info(vote_index,vote_path)[1])\n",
    "        self.res_dict['bill_sponsor_name'].append(self.get_bill_info(vote_index,vote_path)[2])\n",
    "        self.res_dict['result'].append((vote['result_text']).encode('utf-8'))\n",
    "        self.res_dict['date'].append((vote['date']).encode('utf-8'))\n",
    "        self.res_dict['year'].append(vote['date'].split('-')[0])\n",
    "        self.res_dict['question'].append((vote['question']).encode('utf-8'))\n",
    "        self.res_dict['chamber'].append((chamber.split('_')[0]).encode('utf-8'))\n",
    "        \n",
    "        list_of_people_for_vote = []\n",
    "        for vote_type in self.vote_types:\n",
    "            dem_counter = 0\n",
    "            rep_counter = 0\n",
    "            ind_counter = 0\n",
    "            if vote_type in vote[\"votes\"]:\n",
    "                for voterObj in vote[\"votes\"][vote_type]:\n",
    "                    meaningfulObj = {}\n",
    "                    if \"display_name\" in voterObj:\n",
    "                        name = voterObj[\"display_name\"].encode('utf-8')\n",
    "                    else:\n",
    "                        name = \"unknown\"\n",
    "                    if \"party\" in voterObj:\n",
    "                        party = voterObj[\"party\"].encode('utf-8')\n",
    "                    else:\n",
    "                        party=\"unknown\"\n",
    "                    if \"state\" in voterObj:\n",
    "                        state = voterObj[\"state\"].encode('utf-8')\n",
    "                    else:\n",
    "                        state=\"unknown\"\n",
    "                    meaningfulObj = {\"display_name\":name, \"party\":party, \"state\":state, \"vote\":vote_type}\n",
    "\n",
    "                    if party == 'D':\n",
    "                        dem_counter +=1\n",
    "                    if party == 'R':\n",
    "                        rep_counter +=1\n",
    "                    if party == 'I':\n",
    "                        ind_counter +=1\n",
    "\n",
    "                    list_of_people_for_vote.append(meaningfulObj)\n",
    "\n",
    "            self.res_dict[vote_type + \" (Democrats)\"].append(dem_counter)\n",
    "            self.res_dict[vote_type + \" (Republicans)\"].append(rep_counter)\n",
    "            self.res_dict[vote_type + \" (Others)\"].append(ind_counter)\n",
    "        self.res_dict[\"list_of_voters_obj\"].append(list_of_people_for_vote)\n",
    "\n",
    "        return self.res_dict\n",
    "\n",
    "    def get_bill_info(self, vote_index, vote_path):\n",
    "        \"\"\"\n",
    "            Extracts information from bills relevant to the votes investigated.\n",
    "            Return array of information for bill, including its text, top subject and sponsor's name.\n",
    "        \"\"\"\n",
    "        vote = json.loads(open(vote_path, 'r').read())\n",
    "        if \"bill\" in vote.keys():\n",
    "            bill_type_num = str(vote['bill']['type']) + str(vote['bill']['number'])\n",
    "        else:\n",
    "            bill_type_num = \"unknown\"\n",
    "        for bill_type in self.bill_types:\n",
    "            if bill_type in bill_type_num:\n",
    "                bill_data_path = self.congress_num + \"bills/\" + bill_type + \"/\" + str(bill_type_num) + \"/data.json\"\n",
    "                bill = json.loads(open(bill_data_path, 'r').read())\n",
    "                if bill[\"sponsor\"]:\n",
    "                    long_text_top_subject_array = [bill[\"summary\"][\"text\"].lower(), bill[\"subjects_top_term\"], bill[\"sponsor\"][\"name\"]]\n",
    "                    return long_text_top_subject_array\n",
    "                else:\n",
    "                    long_text_top_subject_array = [bill[\"summary\"][\"text\"].lower(), bill[\"subjects_top_term\"], \"unknown\"]\n",
    "                    return long_text_top_subject_array\n",
    "        long_text_top_subject_array = [\"unknown\", \"unknown\", \"unknown\"]\n",
    "        return long_text_top_subject_array"
   ]
  },
  {
   "cell_type": "code",
   "execution_count": 146,
   "metadata": {
    "collapsed": false
   },
   "outputs": [
    {
     "name": "stdout",
     "output_type": "stream",
     "text": [
      "104\n",
      "105\n",
      "106\n",
      "107\n"
     ]
    }
   ],
   "source": [
    "congress_years = [\"104\", \"105\", \"106\", \"107\"]\n",
    "# test_congress_years = [\"104\", \"105\"]\n",
    "frames = []\n",
    "\n",
    "for congress in congress_years:\n",
    "    print congress\n",
    "    pr = Processor(\"/Volumes/usb1/\"+congress+\"/\",\" \")\n",
    "    df = pd.DataFrame(data=pr.read_chamber_data())\n",
    "    frames.append(df)\n",
    "\n",
    "allframes = pd.concat(frames)\n",
    "filename_dest = \"word_Space_congress_104_107.csv\"\n",
    "allframes.to_csv(filename_dest, index=False)"
   ]
  },
  {
   "cell_type": "code",
   "execution_count": 147,
   "metadata": {
    "collapsed": false
   },
   "outputs": [
    {
     "data": {
      "text/html": [
       "<div>\n",
       "<table border=\"1\" class=\"dataframe\">\n",
       "  <thead>\n",
       "    <tr style=\"text-align: right;\">\n",
       "      <th></th>\n",
       "      <th>Nay (Democrats)</th>\n",
       "      <th>Nay (Others)</th>\n",
       "      <th>Nay (Republicans)</th>\n",
       "      <th>Not Voting (Democrats)</th>\n",
       "      <th>Not Voting (Others)</th>\n",
       "      <th>Not Voting (Republicans)</th>\n",
       "      <th>Present (Democrats)</th>\n",
       "      <th>Present (Others)</th>\n",
       "      <th>Present (Republicans)</th>\n",
       "      <th>Yea (Democrats)</th>\n",
       "      <th>...</th>\n",
       "      <th>bill_sponsor_name</th>\n",
       "      <th>bill_title</th>\n",
       "      <th>chamber</th>\n",
       "      <th>date</th>\n",
       "      <th>isAmendment</th>\n",
       "      <th>list_of_voters_obj</th>\n",
       "      <th>question</th>\n",
       "      <th>result</th>\n",
       "      <th>top_subject</th>\n",
       "      <th>year</th>\n",
       "    </tr>\n",
       "  </thead>\n",
       "  <tbody>\n",
       "    <tr>\n",
       "      <th>0</th>\n",
       "      <td>19</td>\n",
       "      <td>0</td>\n",
       "      <td>0</td>\n",
       "      <td>5</td>\n",
       "      <td>0</td>\n",
       "      <td>0</td>\n",
       "      <td>0</td>\n",
       "      <td>0</td>\n",
       "      <td>0</td>\n",
       "      <td>23</td>\n",
       "      <td>...</td>\n",
       "      <td>Dole, Robert J.</td>\n",
       "      <td>sres14</td>\n",
       "      <td>senate</td>\n",
       "      <td>1995-01-05T11:31:00-05:00</td>\n",
       "      <td>False</td>\n",
       "      <td>[{'vote': 'Nay', 'party': 'D', 'state': 'NM', ...</td>\n",
       "      <td>On the Motion to Table S.Amdt. 1 to S.Res. 14 ...</td>\n",
       "      <td>Motion to Table Agreed to (76-19)</td>\n",
       "      <td>Congress</td>\n",
       "      <td>1995</td>\n",
       "    </tr>\n",
       "    <tr>\n",
       "      <th>1</th>\n",
       "      <td>37</td>\n",
       "      <td>0</td>\n",
       "      <td>2</td>\n",
       "      <td>7</td>\n",
       "      <td>0</td>\n",
       "      <td>2</td>\n",
       "      <td>0</td>\n",
       "      <td>0</td>\n",
       "      <td>0</td>\n",
       "      <td>3</td>\n",
       "      <td>...</td>\n",
       "      <td>Grassley, Chuck</td>\n",
       "      <td>s2</td>\n",
       "      <td>senate</td>\n",
       "      <td>1995-01-05T19:14:00-05:00</td>\n",
       "      <td>False</td>\n",
       "      <td>[{'vote': 'Nay', 'party': 'R', 'state': 'MI', ...</td>\n",
       "      <td>On the Motion to Table S.Amdt. 3 to S. 2 (Cong...</td>\n",
       "      <td>Motion to Table Agreed to (52-39)</td>\n",
       "      <td>Congress</td>\n",
       "      <td>1995</td>\n",
       "    </tr>\n",
       "    <tr>\n",
       "      <th>2</th>\n",
       "      <td>17</td>\n",
       "      <td>0</td>\n",
       "      <td>0</td>\n",
       "      <td>7</td>\n",
       "      <td>0</td>\n",
       "      <td>2</td>\n",
       "      <td>0</td>\n",
       "      <td>0</td>\n",
       "      <td>0</td>\n",
       "      <td>23</td>\n",
       "      <td>...</td>\n",
       "      <td>Grassley, Chuck</td>\n",
       "      <td>s2</td>\n",
       "      <td>senate</td>\n",
       "      <td>1995-01-06T11:46:00-05:00</td>\n",
       "      <td>False</td>\n",
       "      <td>[{'vote': 'Nay', 'party': 'D', 'state': 'MT', ...</td>\n",
       "      <td>On the Motion to Table S.Amdt. 5 to S. 2 (Cong...</td>\n",
       "      <td>Motion to Table Agreed to (74-17)</td>\n",
       "      <td>Congress</td>\n",
       "      <td>1995</td>\n",
       "    </tr>\n",
       "  </tbody>\n",
       "</table>\n",
       "<p>3 rows × 24 columns</p>\n",
       "</div>"
      ],
      "text/plain": [
       "   Nay (Democrats)  Nay (Others)  Nay (Republicans)  Not Voting (Democrats)  \\\n",
       "0               19             0                  0                       5   \n",
       "1               37             0                  2                       7   \n",
       "2               17             0                  0                       7   \n",
       "\n",
       "   Not Voting (Others)  Not Voting (Republicans)  Present (Democrats)  \\\n",
       "0                    0                         0                    0   \n",
       "1                    0                         2                    0   \n",
       "2                    0                         2                    0   \n",
       "\n",
       "   Present (Others)  Present (Republicans)  Yea (Democrats)  ...   \\\n",
       "0                 0                      0               23  ...    \n",
       "1                 0                      0                3  ...    \n",
       "2                 0                      0               23  ...    \n",
       "\n",
       "   bill_sponsor_name  bill_title chamber                       date  \\\n",
       "0    Dole, Robert J.      sres14  senate  1995-01-05T11:31:00-05:00   \n",
       "1    Grassley, Chuck          s2  senate  1995-01-05T19:14:00-05:00   \n",
       "2    Grassley, Chuck          s2  senate  1995-01-06T11:46:00-05:00   \n",
       "\n",
       "  isAmendment                                 list_of_voters_obj  \\\n",
       "0       False  [{'vote': 'Nay', 'party': 'D', 'state': 'NM', ...   \n",
       "1       False  [{'vote': 'Nay', 'party': 'R', 'state': 'MI', ...   \n",
       "2       False  [{'vote': 'Nay', 'party': 'D', 'state': 'MT', ...   \n",
       "\n",
       "                                            question  \\\n",
       "0  On the Motion to Table S.Amdt. 1 to S.Res. 14 ...   \n",
       "1  On the Motion to Table S.Amdt. 3 to S. 2 (Cong...   \n",
       "2  On the Motion to Table S.Amdt. 5 to S. 2 (Cong...   \n",
       "\n",
       "                              result top_subject  year  \n",
       "0  Motion to Table Agreed to (76-19)    Congress  1995  \n",
       "1  Motion to Table Agreed to (52-39)    Congress  1995  \n",
       "2  Motion to Table Agreed to (74-17)    Congress  1995  \n",
       "\n",
       "[3 rows x 24 columns]"
      ]
     },
     "execution_count": 147,
     "metadata": {},
     "output_type": "execute_result"
    }
   ],
   "source": [
    "data_info = pd.read_csv(\"./word_Space_congress_104_107.csv\")\n",
    "data_info.head(3)"
   ]
  },
  {
   "cell_type": "code",
   "execution_count": 148,
   "metadata": {
    "collapsed": false
   },
   "outputs": [
    {
     "data": {
      "text/plain": [
       "year\n",
       "1995    1498\n",
       "1996     761\n",
       "1997     938\n",
       "1998     861\n",
       "1999     985\n",
       "2000     901\n",
       "2001     892\n",
       "2002     737\n",
       "dtype: int64"
      ]
     },
     "execution_count": 148,
     "metadata": {},
     "output_type": "execute_result"
    }
   ],
   "source": [
    "year_information = data_info.groupby('year').size()\n",
    "year_information"
   ]
  },
  {
   "cell_type": "code",
   "execution_count": 152,
   "metadata": {
    "collapsed": false
   },
   "outputs": [
    {
     "name": "stdout",
     "output_type": "stream",
     "text": [
      "['hconres188' 'hconres284' 'hconres297' 'hjres122' 'hjres58' 'hjres94'\n",
      " 'hr1119' 'hr1141' 'hr1158' 'hr1209' 'hr1271' 'hr1385' 'hr1401' 'hr1428'\n",
      " 'hr1469' 'hr1493' 'hr1501' 'hr1555' 'hr1561' 'hr1617' 'hr1646' 'hr1658'\n",
      " 'hr1757' 'hr1871' 'hr1885' 'hr1892' 'hr1906' 'hr1944' 'hr2015' 'hr2027'\n",
      " 'hr2076' 'hr2155' 'hr2202' 'hr2215' 'hr2264' 'hr2267' 'hr2431' 'hr2464'\n",
      " 'hr2500' 'hr2578' 'hr2586' 'hr2607' 'hr2670' 'hr2703' 'hr2886' 'hr2920'\n",
      " 'hr2975' 'hr3004' 'hr3019' 'hr3073' 'hr3130' 'hr3162' 'hr3231' 'hr3244'\n",
      " 'hr3259' 'hr3394' 'hr3448' 'hr3525' 'hr3581' 'hr3610' 'hr3734' 'hr3736'\n",
      " 'hr3814' 'hr3989' 'hr4' 'hr4134' 'hr4194' 'hr4276' 'hr4278' 'hr4300'\n",
      " 'hr4328' 'hr4425' 'hr4577' 'hr4678' 'hr4690' 'hr4775' 'hr4858' 'hr5005'\n",
      " 'hr5063' 'hr5710' 'hr6' 'hr667' 'hr668' 'hr889' 'hres384' 'hres396'\n",
      " 'hres528' 's1022' 's1059' 's1061' 's1161' 's1214' 's1217' 's1233' 's1357'\n",
      " 's143' 's1510' 's1664' 's1723' 's1882' 's1956' 's2045' 's2260' 's2312'\n",
      " 's2334' 's254' 's544' 's735' 's886' 's903' 's908' 's936' 's947'\n",
      " 'sconres86']\n"
     ]
    }
   ],
   "source": [
    "counter = 0\n",
    "bills = []\n",
    "immigration_df = pd.DataFrame()\n",
    "\n",
    "for index, row in data_info.iterrows():\n",
    "    if \"immigration\" in row['bill_long_text']:\n",
    "        bills.append(row[\"bill_title\"])\n",
    "        \n",
    "bills_unique = np.unique(bills)\n",
    "\n",
    "immigration_data = pd.DataFrame({\"bill_title\": bills_unique})\n",
    "immigration_df = immigration_df.append(immigration_data)\n",
    "        \n",
    "print bills_unique"
   ]
  },
  {
   "cell_type": "code",
   "execution_count": 154,
   "metadata": {
    "collapsed": false
   },
   "outputs": [],
   "source": [
    "# Length of 441 and 43, respectively.\n",
    "immigration_df = data_info[data_info['bill_long_text'].str.contains(\"immigration\")]\n",
    "unique_immigration_df = immigration_df.drop_duplicates(subset='bill_title', keep='last')"
   ]
  },
  {
   "cell_type": "code",
   "execution_count": 155,
   "metadata": {
    "collapsed": false
   },
   "outputs": [
    {
     "name": "stdout",
     "output_type": "stream",
     "text": [
      "1135\n",
      "114\n"
     ]
    }
   ],
   "source": [
    "print len(immigration_df)\n",
    "print len(unique_immigration_df)"
   ]
  },
  {
   "cell_type": "code",
   "execution_count": 160,
   "metadata": {
    "collapsed": false
   },
   "outputs": [],
   "source": [
    "# Save the unique case in a csv and prepare it for clustering\n",
    "filename_dest = \"unique_immigration_104_107.csv\"\n",
    "unique_immigration_df.to_csv(filename_dest, index=False)"
   ]
  }
 ],
 "metadata": {
  "kernelspec": {
   "display_name": "Python 2",
   "language": "python",
   "name": "python2"
  },
  "language_info": {
   "codemirror_mode": {
    "name": "ipython",
    "version": 2
   },
   "file_extension": ".py",
   "mimetype": "text/x-python",
   "name": "python",
   "nbconvert_exporter": "python",
   "pygments_lexer": "ipython2",
   "version": "2.7.11"
  }
 },
 "nbformat": 4,
 "nbformat_minor": 0
}
