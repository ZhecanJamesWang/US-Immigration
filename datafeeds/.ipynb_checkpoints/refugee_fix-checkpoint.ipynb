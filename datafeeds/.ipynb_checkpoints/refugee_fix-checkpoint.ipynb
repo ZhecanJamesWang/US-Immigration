{
 "cells": [
  {
   "cell_type": "code",
   "execution_count": 45,
   "metadata": {
    "collapsed": false
   },
   "outputs": [],
   "source": [
    "import pandas as pd\n",
    "\n",
    "data_04_13 = pd.read_excel('refugee_nat04-13.xls')\n",
    "data_90_04 = pd.read_excel('refugee_nat90-04.xls')\n",
    "data80_13 = pd.read_excel('refugee80-13.xls')"
   ]
  },
  {
   "cell_type": "code",
   "execution_count": 46,
   "metadata": {
    "collapsed": false
   },
   "outputs": [
    {
     "data": {
      "text/html": [
       "<div>\n",
       "<table border=\"1\" class=\"dataframe\">\n",
       "  <thead>\n",
       "    <tr style=\"text-align: right;\">\n",
       "      <th></th>\n",
       "      <th>Country</th>\n",
       "      <th>1990</th>\n",
       "      <th>1991</th>\n",
       "      <th>1992</th>\n",
       "      <th>1993</th>\n",
       "      <th>1994</th>\n",
       "      <th>1995</th>\n",
       "      <th>1996</th>\n",
       "      <th>1997</th>\n",
       "      <th>1998</th>\n",
       "      <th>1999</th>\n",
       "      <th>2000</th>\n",
       "      <th>2001</th>\n",
       "      <th>2002</th>\n",
       "      <th>2003</th>\n",
       "      <th>2004</th>\n",
       "    </tr>\n",
       "  </thead>\n",
       "  <tbody>\n",
       "    <tr>\n",
       "      <th>0</th>\n",
       "      <td>All countries</td>\n",
       "      <td>109078</td>\n",
       "      <td>96589</td>\n",
       "      <td>114498</td>\n",
       "      <td>107926</td>\n",
       "      <td>109593</td>\n",
       "      <td>98520</td>\n",
       "      <td>74791</td>\n",
       "      <td>69276</td>\n",
       "      <td>76181</td>\n",
       "      <td>85076</td>\n",
       "      <td>72143</td>\n",
       "      <td>68925</td>\n",
       "      <td>26839</td>\n",
       "      <td>28306</td>\n",
       "      <td>52835</td>\n",
       "    </tr>\n",
       "    <tr>\n",
       "      <th>1</th>\n",
       "      <td>Europe</td>\n",
       "      <td>56912</td>\n",
       "      <td>45516</td>\n",
       "      <td>64184</td>\n",
       "      <td>51278</td>\n",
       "      <td>50838</td>\n",
       "      <td>45703</td>\n",
       "      <td>41617</td>\n",
       "      <td>48450</td>\n",
       "      <td>54260</td>\n",
       "      <td>55877</td>\n",
       "      <td>37664</td>\n",
       "      <td>31526</td>\n",
       "      <td>15408</td>\n",
       "      <td>11269</td>\n",
       "      <td>9254</td>\n",
       "    </tr>\n",
       "    <tr>\n",
       "      <th>2</th>\n",
       "      <td>Albania</td>\n",
       "      <td>98</td>\n",
       "      <td>1363</td>\n",
       "      <td>1108</td>\n",
       "      <td>458</td>\n",
       "      <td>171</td>\n",
       "      <td>51</td>\n",
       "      <td>23</td>\n",
       "      <td>9</td>\n",
       "      <td>NaN</td>\n",
       "      <td>8</td>\n",
       "      <td>NaN</td>\n",
       "      <td>3</td>\n",
       "      <td>5</td>\n",
       "      <td>NaN</td>\n",
       "      <td>NaN</td>\n",
       "    </tr>\n",
       "    <tr>\n",
       "      <th>3</th>\n",
       "      <td>Armenia</td>\n",
       "      <td>NaN</td>\n",
       "      <td>NaN</td>\n",
       "      <td>NaN</td>\n",
       "      <td>NaN</td>\n",
       "      <td>NaN</td>\n",
       "      <td>NaN</td>\n",
       "      <td>NaN</td>\n",
       "      <td>NaN</td>\n",
       "      <td>NaN</td>\n",
       "      <td>35</td>\n",
       "      <td>20</td>\n",
       "      <td>27</td>\n",
       "      <td>30</td>\n",
       "      <td>63</td>\n",
       "      <td>88</td>\n",
       "    </tr>\n",
       "    <tr>\n",
       "      <th>4</th>\n",
       "      <td>Azerbaijan</td>\n",
       "      <td>NaN</td>\n",
       "      <td>NaN</td>\n",
       "      <td>NaN</td>\n",
       "      <td>NaN</td>\n",
       "      <td>NaN</td>\n",
       "      <td>NaN</td>\n",
       "      <td>NaN</td>\n",
       "      <td>NaN</td>\n",
       "      <td>NaN</td>\n",
       "      <td>210</td>\n",
       "      <td>259</td>\n",
       "      <td>449</td>\n",
       "      <td>115</td>\n",
       "      <td>406</td>\n",
       "      <td>407</td>\n",
       "    </tr>\n",
       "  </tbody>\n",
       "</table>\n",
       "</div>"
      ],
      "text/plain": [
       "         Country    1990   1991    1992    1993    1994   1995   1996   1997  \\\n",
       "0  All countries  109078  96589  114498  107926  109593  98520  74791  69276   \n",
       "1         Europe   56912  45516   64184   51278   50838  45703  41617  48450   \n",
       "2       Albania       98   1363    1108     458     171     51     23      9   \n",
       "3        Armenia     NaN    NaN     NaN     NaN     NaN    NaN    NaN    NaN   \n",
       "4     Azerbaijan     NaN    NaN     NaN     NaN     NaN    NaN    NaN    NaN   \n",
       "\n",
       "    1998   1999   2000   2001   2002   2003   2004  \n",
       "0  76181  85076  72143  68925  26839  28306  52835  \n",
       "1  54260  55877  37664  31526  15408  11269   9254  \n",
       "2    NaN      8    NaN      3      5    NaN    NaN  \n",
       "3    NaN     35     20     27     30     63     88  \n",
       "4    NaN    210    259    449    115    406    407  "
      ]
     },
     "execution_count": 46,
     "metadata": {},
     "output_type": "execute_result"
    }
   ],
   "source": [
    "data_90_04.head()"
   ]
  },
  {
   "cell_type": "code",
   "execution_count": 47,
   "metadata": {
    "collapsed": false
   },
   "outputs": [
    {
     "data": {
      "text/html": [
       "<div>\n",
       "<table border=\"1\" class=\"dataframe\">\n",
       "  <thead>\n",
       "    <tr style=\"text-align: right;\">\n",
       "      <th></th>\n",
       "      <th>Country</th>\n",
       "      <th>2004</th>\n",
       "      <th>2005</th>\n",
       "      <th>2006</th>\n",
       "      <th>2007</th>\n",
       "      <th>2008</th>\n",
       "      <th>2009</th>\n",
       "      <th>2010</th>\n",
       "      <th>2011</th>\n",
       "      <th>2012</th>\n",
       "      <th>2013</th>\n",
       "    </tr>\n",
       "  </thead>\n",
       "  <tbody>\n",
       "    <tr>\n",
       "      <th>0</th>\n",
       "      <td>Total</td>\n",
       "      <td>52840</td>\n",
       "      <td>53738</td>\n",
       "      <td>41094</td>\n",
       "      <td>48218</td>\n",
       "      <td>60107</td>\n",
       "      <td>74602</td>\n",
       "      <td>73293</td>\n",
       "      <td>56384</td>\n",
       "      <td>58179</td>\n",
       "      <td>69909</td>\n",
       "    </tr>\n",
       "    <tr>\n",
       "      <th>1</th>\n",
       "      <td>Africa</td>\n",
       "      <td>29108</td>\n",
       "      <td>20746</td>\n",
       "      <td>18129</td>\n",
       "      <td>17486</td>\n",
       "      <td>8943</td>\n",
       "      <td>9678</td>\n",
       "      <td>13325</td>\n",
       "      <td>7693</td>\n",
       "      <td>10629</td>\n",
       "      <td>15984</td>\n",
       "    </tr>\n",
       "    <tr>\n",
       "      <th>2</th>\n",
       "      <td>Asia</td>\n",
       "      <td>12276</td>\n",
       "      <td>15769</td>\n",
       "      <td>10086</td>\n",
       "      <td>23564</td>\n",
       "      <td>44819</td>\n",
       "      <td>58309</td>\n",
       "      <td>52695</td>\n",
       "      <td>44583</td>\n",
       "      <td>44416</td>\n",
       "      <td>48840</td>\n",
       "    </tr>\n",
       "    <tr>\n",
       "      <th>3</th>\n",
       "      <td>Europe</td>\n",
       "      <td>7879</td>\n",
       "      <td>10524</td>\n",
       "      <td>9615</td>\n",
       "      <td>4192</td>\n",
       "      <td>2059</td>\n",
       "      <td>1693</td>\n",
       "      <td>1238</td>\n",
       "      <td>996</td>\n",
       "      <td>908</td>\n",
       "      <td>482</td>\n",
       "    </tr>\n",
       "    <tr>\n",
       "      <th>4</th>\n",
       "      <td>North America</td>\n",
       "      <td>2998</td>\n",
       "      <td>6368</td>\n",
       "      <td>3145</td>\n",
       "      <td>2922</td>\n",
       "      <td>4177</td>\n",
       "      <td>4800</td>\n",
       "      <td>4856</td>\n",
       "      <td>2930</td>\n",
       "      <td>1948</td>\n",
       "      <td>4206</td>\n",
       "    </tr>\n",
       "  </tbody>\n",
       "</table>\n",
       "</div>"
      ],
      "text/plain": [
       "         Country   2004   2005   2006   2007   2008   2009   2010   2011  \\\n",
       "0          Total  52840  53738  41094  48218  60107  74602  73293  56384   \n",
       "1         Africa  29108  20746  18129  17486   8943   9678  13325   7693   \n",
       "2           Asia  12276  15769  10086  23564  44819  58309  52695  44583   \n",
       "3         Europe   7879  10524   9615   4192   2059   1693   1238    996   \n",
       "4  North America   2998   6368   3145   2922   4177   4800   4856   2930   \n",
       "\n",
       "    2012   2013  \n",
       "0  58179  69909  \n",
       "1  10629  15984  \n",
       "2  44416  48840  \n",
       "3    908    482  \n",
       "4   1948   4206  "
      ]
     },
     "execution_count": 47,
     "metadata": {},
     "output_type": "execute_result"
    }
   ],
   "source": [
    "data_04_13.head()"
   ]
  },
  {
   "cell_type": "code",
   "execution_count": 48,
   "metadata": {
    "collapsed": false
   },
   "outputs": [
    {
     "name": "stderr",
     "output_type": "stream",
     "text": [
      "/home/nshlapo/anaconda2/lib/python2.7/site-packages/ipykernel/__main__.py:1: FutureWarning: using '+' to provide set union with Indexes is deprecated, use '|' or .union()\n",
      "  if __name__ == '__main__':\n"
     ]
    }
   ],
   "source": [
    "data = pd.DataFrame(columns=data_90_04.columns+data_04_13.columns[1:])\n",
    "\n",
    "for country in data_90_04.Country:\n",
    "    begin = data_90_04[data_90_04.Country==country]\n",
    "    end = []\n",
    "    try: \n",
    "        end = data_04_13[data_04_13.Country==country]\n",
    "    except:\n",
    "        pass\n",
    "    \n",
    "    if end.empty:\n",
    "        new_entry = begin.iloc[0].tolist() + [None,None,None,None,None,None,None,None,None]\n",
    "    else:\n",
    "        new_entry = begin.iloc[0].tolist() + end.iloc[0].tolist()[2:]\n",
    "        \n",
    "    appension =  pd.DataFrame(new_entry).transpose()\n",
    "    appension.columns = data.columns\n",
    "   \n",
    "    data = data.append(appension)"
   ]
  },
  {
   "cell_type": "code",
   "execution_count": 49,
   "metadata": {
    "collapsed": false
   },
   "outputs": [],
   "source": [
    "for country in data_04_13.Country:\n",
    "    if country not in data.Country.tolist():\n",
    "        begin = [country, None,None,None,None,None,None,None,None,None,None,None,None,None,None,None]\n",
    "        end = data_04_13[data_04_13.Country==country]\n",
    "        \n",
    "        new_entry = begin + end.iloc[0].tolist()[2:]\n",
    "        \n",
    "        appension =  pd.DataFrame(new_entry).transpose()\n",
    "        appension.columns = data.columns\n",
    "        \n",
    "        data = data.append(appension)"
   ]
  },
  {
   "cell_type": "code",
   "execution_count": 50,
   "metadata": {
    "collapsed": false
   },
   "outputs": [],
   "source": [
    "data.set_index(data.Country, inplace=True)\n",
    "data.to_csv('../Data/refugee_by_nat.csv')"
   ]
  },
  {
   "cell_type": "code",
   "execution_count": 51,
   "metadata": {
    "collapsed": false
   },
   "outputs": [],
   "source": [
    "data_ref = pd.read_excel('refugee80-13.xls')\n",
    "data_ref.set_index(data_ref.Year, inplace=True)\n",
    "data_ref.to_csv('../Data/refugee.csv')"
   ]
  },
  {
   "cell_type": "code",
   "execution_count": null,
   "metadata": {
    "collapsed": true
   },
   "outputs": [],
   "source": []
  }
 ],
 "metadata": {
  "kernelspec": {
   "display_name": "Python 2",
   "language": "python",
   "name": "python2"
  },
  "language_info": {
   "codemirror_mode": {
    "name": "ipython",
    "version": 2
   },
   "file_extension": ".py",
   "mimetype": "text/x-python",
   "name": "python",
   "nbconvert_exporter": "python",
   "pygments_lexer": "ipython2",
   "version": "2.7.11"
  }
 },
 "nbformat": 4,
 "nbformat_minor": 0
}
