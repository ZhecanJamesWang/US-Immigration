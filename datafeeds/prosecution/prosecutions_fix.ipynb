{
 "cells": [
  {
   "cell_type": "code",
   "execution_count": 2,
   "metadata": {
    "collapsed": true
   },
   "outputs": [],
   "source": [
    "import pandas as pd"
   ]
  },
  {
   "cell_type": "code",
   "execution_count": 7,
   "metadata": {
    "collapsed": false
   },
   "outputs": [
    {
     "data": {
      "text/html": [
       "<div>\n",
       "<table border=\"1\" class=\"dataframe\">\n",
       "  <thead>\n",
       "    <tr style=\"text-align: right;\">\n",
       "      <th></th>\n",
       "      <th>1992</th>\n",
       "      <th>1993</th>\n",
       "      <th>1994</th>\n",
       "      <th>1995</th>\n",
       "      <th>1996</th>\n",
       "      <th>1997</th>\n",
       "      <th>1998</th>\n",
       "      <th>1999</th>\n",
       "      <th>2000</th>\n",
       "      <th>2001</th>\n",
       "      <th>2002</th>\n",
       "      <th>2003</th>\n",
       "      <th>2004</th>\n",
       "    </tr>\n",
       "  </thead>\n",
       "  <tbody>\n",
       "    <tr>\n",
       "      <th>Total prosecutions</th>\n",
       "      <td>14655</td>\n",
       "      <td>18731</td>\n",
       "      <td>14854</td>\n",
       "      <td>17035</td>\n",
       "      <td>16115</td>\n",
       "      <td>19180</td>\n",
       "      <td>23826</td>\n",
       "      <td>22491</td>\n",
       "      <td>22926</td>\n",
       "      <td>24316</td>\n",
       "      <td>23850</td>\n",
       "      <td>24918</td>\n",
       "      <td>19541</td>\n",
       "    </tr>\n",
       "    <tr>\n",
       "      <th>Total convictions</th>\n",
       "      <td>9865</td>\n",
       "      <td>11685</td>\n",
       "      <td>10210</td>\n",
       "      <td>12075</td>\n",
       "      <td>12121</td>\n",
       "      <td>16184</td>\n",
       "      <td>21480</td>\n",
       "      <td>20471</td>\n",
       "      <td>20751</td>\n",
       "      <td>21055</td>\n",
       "      <td>21042</td>\n",
       "      <td>22479</td>\n",
       "      <td>17100</td>\n",
       "    </tr>\n",
       "    <tr>\n",
       "      <th>Total acquittals</th>\n",
       "      <td>57</td>\n",
       "      <td>240</td>\n",
       "      <td>86</td>\n",
       "      <td>124</td>\n",
       "      <td>108</td>\n",
       "      <td>24</td>\n",
       "      <td>65</td>\n",
       "      <td>58</td>\n",
       "      <td>96</td>\n",
       "      <td>92</td>\n",
       "      <td>114</td>\n",
       "      <td>57</td>\n",
       "      <td>11</td>\n",
       "    </tr>\n",
       "    <tr>\n",
       "      <th>Total dismissals</th>\n",
       "      <td>4733</td>\n",
       "      <td>6806</td>\n",
       "      <td>4558</td>\n",
       "      <td>4836</td>\n",
       "      <td>3886</td>\n",
       "      <td>2972</td>\n",
       "      <td>2281</td>\n",
       "      <td>1962</td>\n",
       "      <td>2079</td>\n",
       "      <td>3169</td>\n",
       "      <td>2694</td>\n",
       "      <td>2382</td>\n",
       "      <td>2430</td>\n",
       "    </tr>\n",
       "    <tr>\n",
       "      <th>Immigration prosecutions</th>\n",
       "      <td>14138</td>\n",
       "      <td>15566</td>\n",
       "      <td>13068</td>\n",
       "      <td>15337</td>\n",
       "      <td>14223</td>\n",
       "      <td>17807</td>\n",
       "      <td>22857</td>\n",
       "      <td>21588</td>\n",
       "      <td>22071</td>\n",
       "      <td>23374</td>\n",
       "      <td>23219</td>\n",
       "      <td>24153</td>\n",
       "      <td>19370</td>\n",
       "    </tr>\n",
       "  </tbody>\n",
       "</table>\n",
       "</div>"
      ],
      "text/plain": [
       "                           1992   1993   1994   1995   1996   1997   1998  \\\n",
       "Total prosecutions        14655  18731  14854  17035  16115  19180  23826   \n",
       "Total convictions          9865  11685  10210  12075  12121  16184  21480   \n",
       "Total acquittals             57    240     86    124    108     24     65   \n",
       "Total dismissals           4733   6806   4558   4836   3886   2972   2281   \n",
       "Immigration prosecutions  14138  15566  13068  15337  14223  17807  22857   \n",
       "\n",
       "                           1999   2000   2001   2002   2003   2004  \n",
       "Total prosecutions        22491  22926  24316  23850  24918  19541  \n",
       "Total convictions         20471  20751  21055  21042  22479  17100  \n",
       "Total acquittals             58     96     92    114     57     11  \n",
       "Total dismissals           1962   2079   3169   2694   2382   2430  \n",
       "Immigration prosecutions  21588  22071  23374  23219  24153  19370  "
      ]
     },
     "execution_count": 7,
     "metadata": {},
     "output_type": "execute_result"
    }
   ],
   "source": [
    "pros = pd.read_excel('Table49_0.xls')\n",
    "pros.set_index('Action', inplace=True)\n",
    "del pros.index.name\n",
    "pros.head()"
   ]
  },
  {
   "cell_type": "code",
   "execution_count": 8,
   "metadata": {
    "collapsed": false
   },
   "outputs": [],
   "source": [
    "pros.to_csv('../../Data/prosecutions.csv')"
   ]
  },
  {
   "cell_type": "code",
   "execution_count": null,
   "metadata": {
    "collapsed": true
   },
   "outputs": [],
   "source": []
  }
 ],
 "metadata": {
  "kernelspec": {
   "display_name": "Python 2",
   "language": "python",
   "name": "python2"
  },
  "language_info": {
   "codemirror_mode": {
    "name": "ipython",
    "version": 2
   },
   "file_extension": ".py",
   "mimetype": "text/x-python",
   "name": "python",
   "nbconvert_exporter": "python",
   "pygments_lexer": "ipython2",
   "version": "2.7.11"
  }
 },
 "nbformat": 4,
 "nbformat_minor": 0
}
